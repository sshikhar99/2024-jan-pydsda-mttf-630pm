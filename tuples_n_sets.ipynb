{
 "cells": [
  {
   "cell_type": "code",
   "execution_count": null,
   "metadata": {},
   "outputs": [],
   "source": [
    "x = 1,2,3,4,5\n",
    "print(x)"
   ]
  },
  {
   "cell_type": "code",
   "execution_count": null,
   "metadata": {},
   "outputs": [],
   "source": [
    "data = (1,2,3,'apple','banana')\n",
    "print(data)"
   ]
  },
  {
   "cell_type": "code",
   "execution_count": null,
   "metadata": {},
   "outputs": [],
   "source": [
    "data.count(2)"
   ]
  },
  {
   "cell_type": "code",
   "execution_count": null,
   "metadata": {},
   "outputs": [],
   "source": [
    "data.index('apple')"
   ]
  },
  {
   "cell_type": "code",
<<<<<<< HEAD
   "execution_count": null,
   "metadata": {},
   "outputs": [],
=======
   "execution_count": 11,
   "metadata": {},
   "outputs": [
    {
     "name": "stdout",
     "output_type": "stream",
     "text": [
      "[1, 2, 3] (1, 2, 3)\n",
      "[1, 2, 3] (1, 2, 3) [1, 2, 3]\n",
      "[1, 2, 3] (1, 2, 3) [1, 2, 3] {1, 2, 3}\n"
     ]
    }
   ],
>>>>>>> 7126933d4e9879b6e5ffa8fcc35b393ade5c1507
   "source": [
    "x = [1,2,3]\n",
    "xt = tuple(x) # convert to tuple\n",
    "print(x, xt)\n",
    "xl = list(xt) # tuple to list\n",
    "print(x, xt, xl)\n",
    "xs = set(xl) # list to set\n",
<<<<<<< HEAD
    "print(x, xt, xl, xs)\n",
    "[1, 2, 3] (1, 2, 3)\n",
    "[1, 2, 3] (1, 2, 3) [1, 2, 3]\n",
    "[1, 2, 3] (1, 2, 3) [1, 2, 3] {1, 2, 3}"
=======
    "print(x, xt, xl, xs)"
>>>>>>> 7126933d4e9879b6e5ffa8fcc35b393ade5c1507
   ]
  },
  {
   "cell_type": "code",
   "execution_count": null,
   "metadata": {},
   "outputs": [],
   "source": []
<<<<<<< HEAD
  },
  {
   "cell_type": "code",
   "execution_count": null,
   "metadata": {},
   "outputs": [],
   "source": []
  },
  {
   "cell_type": "code",
   "execution_count": null,
   "metadata": {},
   "outputs": [],
   "source": []
  },
  {
   "cell_type": "code",
   "execution_count": null,
   "metadata": {},
   "outputs": [],
   "source": []
  },
  {
   "cell_type": "code",
   "execution_count": null,
   "metadata": {},
   "outputs": [],
   "source": []
  }
 ],
 "metadata": {
  "language_info": {
   "name": "python"
=======
  }
 ],
 "metadata": {
  "kernelspec": {
   "display_name": "base",
   "language": "python",
   "name": "python3"
  },
  "language_info": {
   "codemirror_mode": {
    "name": "ipython",
    "version": 3
   },
   "file_extension": ".py",
   "mimetype": "text/x-python",
   "name": "python",
   "nbconvert_exporter": "python",
   "pygments_lexer": "ipython3",
   "version": "3.11.7"
>>>>>>> 7126933d4e9879b6e5ffa8fcc35b393ade5c1507
  }
 },
 "nbformat": 4,
 "nbformat_minor": 2
}
