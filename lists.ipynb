{
 "cells": [
  {
<<<<<<< HEAD
   "cell_type": "code",
   "execution_count": 5,
   "metadata": {},
   "outputs": [],
   "source": [
    "names = ['Alice', 'Edward', 'Charles', 'Bob']\n",
    "prime_nums = [2, 3, 5, 7, 11, 13, 17, 19, 23, 29]\n",
    "mix_list = [1, 'Alice', 2, 'Edward', 3, 'Charles', 4, 'Bob', 5]\n",
=======
   "cell_type": "markdown",
   "metadata": {},
   "source": [
    "# list\n",
    "- ordered sequence of elements\n",
    "- mutable (add, remove, change) after creation\n",
    "- indexed (positive and negative)\n",
    "- heterogenous (different types of data), can be homogenous (same type of data)\n",
    "- nesting can be done\n",
    "- represented by square brackets `[]`\n",
    "- `list( )` constructor to create a list"
   ]
  },
  {
   "cell_type": "code",
   "execution_count": null,
   "metadata": {},
   "outputs": [],
   "source": [
    "names = ['Alice', 'Bob', 'Charlie', 'Debbie']\n",
    "prime_nums = [2, 3, 5, 7, 11, 13, 17, 19, 23, 29]\n",
    "mix_list = [1, 'Alice', 2, 'Bob', 3, 'Charlie', 4, 'Debbie', 5]\n",
>>>>>>> 7126933d4e9879b6e5ffa8fcc35b393ade5c1507
    "nest_list = [[1, 2, 3], [4, 5, 6], [7, 8, 9]]"
   ]
  },
  {
   "cell_type": "code",
<<<<<<< HEAD
   "execution_count": 6,
   "metadata": {},
   "outputs": [
    {
     "name": "stdout",
     "output_type": "stream",
     "text": [
      "4\n",
      "10\n",
      "9\n",
      "3\n"
     ]
    }
   ],
=======
   "execution_count": null,
   "metadata": {},
   "outputs": [],
>>>>>>> 7126933d4e9879b6e5ffa8fcc35b393ade5c1507
   "source": [
    "print(len(names))\n",
    "print(len(prime_nums))\n",
    "print(len(mix_list))\n",
<<<<<<< HEAD
    "print(len(nest_list))\n"
=======
    "print(len(nest_list))"
   ]
  },
  {
   "cell_type": "markdown",
   "metadata": {},
   "source": [
    "traversal"
>>>>>>> 7126933d4e9879b6e5ffa8fcc35b393ade5c1507
   ]
  },
  {
   "cell_type": "code",
<<<<<<< HEAD
   "execution_count": 7,
   "metadata": {},
   "outputs": [
    {
     "name": "stdout",
     "output_type": "stream",
     "text": [
      "Alice\n",
      "Edward\n",
      "Charles\n",
      "Bob\n"
     ]
    }
   ],
=======
   "execution_count": null,
   "metadata": {},
   "outputs": [],
>>>>>>> 7126933d4e9879b6e5ffa8fcc35b393ade5c1507
   "source": [
    "for name in names:\n",
    "    print(name)"
   ]
  },
  {
<<<<<<< HEAD
   "cell_type": "code",
   "execution_count": 8,
   "metadata": {},
   "outputs": [
    {
     "name": "stdout",
     "output_type": "stream",
     "text": [
      "first element 2\n",
      "fourth element 7\n",
      "last element 29\n"
     ]
    }
   ],
   "source": [
    "print('first element',prime_nums[0])\n",
    "print('fourth element',prime_nums[3])\n",
    "print('last element',prime_nums[-1])\n"
=======
   "cell_type": "markdown",
   "metadata": {},
   "source": [
    "### indexing"
>>>>>>> 7126933d4e9879b6e5ffa8fcc35b393ade5c1507
   ]
  },
  {
   "cell_type": "code",
<<<<<<< HEAD
   "execution_count": 9,
   "metadata": {},
   "outputs": [
    {
     "name": "stdout",
     "output_type": "stream",
     "text": [
      "['Alice', 'John', 'Charles', 'Bob']\n"
     ]
    }
   ],
=======
   "execution_count": null,
   "metadata": {},
   "outputs": [],
   "source": [
    "print('first element',prime_nums[0])\n",
    "print('fourth element',prime_nums[3])\n",
    "print('last element',prime_nums[-1])"
   ]
  },
  {
   "cell_type": "markdown",
   "metadata": {},
   "source": [
    "updating an index"
   ]
  },
  {
   "cell_type": "code",
   "execution_count": null,
   "metadata": {},
   "outputs": [],
>>>>>>> 7126933d4e9879b6e5ffa8fcc35b393ade5c1507
   "source": [
    "names[1] = 'John'\n",
    "print(names)"
   ]
  },
  {
<<<<<<< HEAD
   "cell_type": "code",
   "execution_count": 10,
   "metadata": {},
   "outputs": [
    {
     "data": {
      "text/plain": [
       "[2, 3, 5, 7, 11]"
      ]
     },
     "execution_count": 10,
     "metadata": {},
     "output_type": "execute_result"
    }
   ],
   "source": [
    "prime_nums[:5]"
=======
   "cell_type": "markdown",
   "metadata": {},
   "source": [
    "slicing"
>>>>>>> 7126933d4e9879b6e5ffa8fcc35b393ade5c1507
   ]
  },
  {
   "cell_type": "code",
<<<<<<< HEAD
   "execution_count": 11,
   "metadata": {},
   "outputs": [
    {
     "data": {
      "text/plain": [
       "[13, 17, 19, 23, 29]"
      ]
     },
     "execution_count": 11,
     "metadata": {},
     "output_type": "execute_result"
    }
   ],
   "source": [
    "prime_nums[-5:]"
=======
   "execution_count": null,
   "metadata": {},
   "outputs": [],
   "source": [
    "prime_nums[:5] # first 5 elements"
>>>>>>> 7126933d4e9879b6e5ffa8fcc35b393ade5c1507
   ]
  },
  {
   "cell_type": "code",
<<<<<<< HEAD
   "execution_count": 12,
   "metadata": {},
   "outputs": [
    {
     "data": {
      "text/plain": [
       "[29, 23, 19, 17, 13, 11, 7, 5, 3, 2]"
      ]
     },
     "execution_count": 12,
     "metadata": {},
     "output_type": "execute_result"
    }
   ],
   "source": [
    "prime_nums[::-1]\n"
=======
   "execution_count": null,
   "metadata": {},
   "outputs": [],
   "source": [
    "prime_nums[-5:] # last 5 elements"
>>>>>>> 7126933d4e9879b6e5ffa8fcc35b393ade5c1507
   ]
  },
  {
   "cell_type": "code",
<<<<<<< HEAD
   "execution_count": 13,
   "metadata": {},
   "outputs": [
    {
     "data": {
      "text/plain": [
       "[2, 5, 11, 17, 23]"
      ]
     },
     "execution_count": 13,
     "metadata": {},
     "output_type": "execute_result"
    }
   ],
   "source": [
    "prime_nums[::2]"
=======
   "execution_count": null,
   "metadata": {},
   "outputs": [],
   "source": [
    "prime_nums[::-1]"
>>>>>>> 7126933d4e9879b6e5ffa8fcc35b393ade5c1507
   ]
  },
  {
   "cell_type": "code",
<<<<<<< HEAD
   "execution_count": 14,
   "metadata": {},
   "outputs": [
    {
     "name": "stdout",
     "output_type": "stream",
     "text": [
      "[100, 10, 1]\n"
     ]
    }
   ],
=======
   "execution_count": null,
   "metadata": {},
   "outputs": [],
   "source": [
    "prime_nums[::2] # every other element"
   ]
  },
  {
   "cell_type": "markdown",
   "metadata": {},
   "source": [
    "adding, removing"
   ]
  },
  {
   "cell_type": "code",
   "execution_count": null,
   "metadata": {},
   "outputs": [],
>>>>>>> 7126933d4e9879b6e5ffa8fcc35b393ade5c1507
   "source": [
    "a = [] # empty list\n",
    "a.append(100)\n",
    "a.append(10)\n",
    "a.append(1)\n",
    "print(a)"
   ]
  },
  {
   "cell_type": "code",
<<<<<<< HEAD
   "execution_count": 15,
   "metadata": {},
   "outputs": [
    {
     "name": "stdout",
     "output_type": "stream",
     "text": [
      "[100, 10, 1, 100]\n"
     ]
    }
   ],
=======
   "execution_count": null,
   "metadata": {},
   "outputs": [],
>>>>>>> 7126933d4e9879b6e5ffa8fcc35b393ade5c1507
   "source": [
    "a.append(100)\n",
    "print(a)"
   ]
  },
  {
   "cell_type": "code",
<<<<<<< HEAD
   "execution_count": 16,
   "metadata": {},
   "outputs": [
    {
     "name": "stdout",
     "output_type": "stream",
     "text": [
      "[1, 100]\n"
     ]
    }
   ],
=======
   "execution_count": null,
   "metadata": {},
   "outputs": [],
>>>>>>> 7126933d4e9879b6e5ffa8fcc35b393ade5c1507
   "source": [
    "a.remove(10)\n",
    "a.remove(100)\n",
    "print(a)"
   ]
  },
  {
   "cell_type": "code",
<<<<<<< HEAD
   "execution_count": 17,
   "metadata": {},
   "outputs": [
    {
     "name": "stdout",
     "output_type": "stream",
     "text": [
      "[20, 1, 100]\n"
     ]
    }
   ],
=======
   "execution_count": null,
   "metadata": {},
   "outputs": [],
>>>>>>> 7126933d4e9879b6e5ffa8fcc35b393ade5c1507
   "source": [
    "a.insert(0, 20)\n",
    "print(a)"
   ]
  },
  {
   "cell_type": "code",
<<<<<<< HEAD
   "execution_count": 18,
   "metadata": {},
   "outputs": [
    {
     "name": "stdout",
     "output_type": "stream",
     "text": [
      "[20, 1000, 50, 1, 100]\n"
     ]
    }
   ],
=======
   "execution_count": null,
   "metadata": {},
   "outputs": [],
>>>>>>> 7126933d4e9879b6e5ffa8fcc35b393ade5c1507
   "source": [
    "a.insert(1,1000)\n",
    "a.insert(2,50)\n",
    "print(a)"
   ]
  },
  {
   "cell_type": "code",
<<<<<<< HEAD
   "execution_count": 19,
   "metadata": {},
   "outputs": [
    {
     "data": {
      "text/plain": [
       "1000"
      ]
     },
     "execution_count": 19,
     "metadata": {},
     "output_type": "execute_result"
    }
   ],
=======
   "execution_count": null,
   "metadata": {},
   "outputs": [],
>>>>>>> 7126933d4e9879b6e5ffa8fcc35b393ade5c1507
   "source": [
    "a.pop(1) # remove value at index 1"
   ]
  },
  {
   "cell_type": "code",
<<<<<<< HEAD
   "execution_count": 20,
   "metadata": {},
   "outputs": [
    {
     "name": "stdout",
     "output_type": "stream",
     "text": [
      "[20, 50, 1, 100]\n"
     ]
    }
   ],
=======
   "execution_count": null,
   "metadata": {},
   "outputs": [],
>>>>>>> 7126933d4e9879b6e5ffa8fcc35b393ade5c1507
   "source": [
    "print(a)"
   ]
  },
  {
   "cell_type": "code",
<<<<<<< HEAD
   "execution_count": 21,
   "metadata": {},
   "outputs": [
    {
     "name": "stdout",
     "output_type": "stream",
     "text": [
      "[20, 50, 1]\n"
     ]
    }
   ],
=======
   "execution_count": null,
   "metadata": {},
   "outputs": [],
>>>>>>> 7126933d4e9879b6e5ffa8fcc35b393ade5c1507
   "source": [
    "a.pop() # remove value at last index (default)\n",
    "print(a)"
   ]
  },
  {
   "cell_type": "code",
<<<<<<< HEAD
   "execution_count": 22,
   "metadata": {},
   "outputs": [
    {
     "name": "stdout",
     "output_type": "stream",
     "text": [
      "[]\n"
     ]
    }
   ],
=======
   "execution_count": null,
   "metadata": {},
   "outputs": [],
>>>>>>> 7126933d4e9879b6e5ffa8fcc35b393ade5c1507
   "source": [
    "a.clear()\n",
    "print(a)"
   ]
  },
  {
<<<<<<< HEAD
   "cell_type": "code",
   "execution_count": 23,
   "metadata": {},
   "outputs": [
    {
     "name": "stdout",
     "output_type": "stream",
     "text": [
      "a [1, 2, 3]\n",
      "b [3, 4, 5]\n",
      "c [1, 2, 3, 3, 4, 5]\n",
      "a [1, 2, 3, 3, 4, 5]\n",
      "b [3, 4, 5]\n"
     ]
    }
   ],
=======
   "cell_type": "markdown",
   "metadata": {},
   "source": [
    "concatenation `+` vs merging `extend()`"
   ]
  },
  {
   "cell_type": "code",
   "execution_count": null,
   "metadata": {},
   "outputs": [],
>>>>>>> 7126933d4e9879b6e5ffa8fcc35b393ade5c1507
   "source": [
    "a = [1,2,3]\n",
    "b = [3,4,5]\n",
    "print('a',a)\n",
    "print('b',b)\n",
    "c = a + b\n",
    "print('c',c)\n",
    "a.extend(b)\n",
    "print('a',a)\n",
<<<<<<< HEAD
    "print('b',b)"
=======
    "print('b',b)\n"
>>>>>>> 7126933d4e9879b6e5ffa8fcc35b393ade5c1507
   ]
  },
  {
   "cell_type": "code",
<<<<<<< HEAD
   "execution_count": 24,
   "metadata": {},
   "outputs": [
    {
     "name": "stdout",
     "output_type": "stream",
     "text": [
      "[2, 4, 6, 8, 10, 12, 14, 16, 18, 20, 22, 24, 26, 28, 30, 32, 34, 36, 38, 40, 42, 44, 46, 48, 50, 52, 54, 56, 58, 60, 62, 64, 66, 68, 70, 72, 74, 76, 78, 80, 82, 84, 86, 88, 90, 92, 94, 96, 98, 100]\n"
     ]
    }
   ],
=======
   "execution_count": null,
   "metadata": {},
   "outputs": [],
>>>>>>> 7126933d4e9879b6e5ffa8fcc35b393ade5c1507
   "source": [
    "x = []\n",
    "for i in range(2,101, 2):\n",
    "    x.append(i)\n",
    "print(x)"
   ]
  },
  {
   "cell_type": "code",
<<<<<<< HEAD
   "execution_count": 25,
   "metadata": {},
   "outputs": [
    {
     "name": "stdout",
     "output_type": "stream",
     "text": [
      "[2, 4, 6, 8, 10, 12, 14, 16, 18, 20, 22, 24, 26, 28, 30, 32, 34, 36, 38, 40, 42, 44, 46, 48, 50, 52, 54, 56, 58, 60, 62, 64, 66, 68, 70, 72, 74, 76, 78, 80, 82, 84, 86, 88, 90, 92, 94, 96, 98, 100]\n"
     ]
    }
   ],
=======
   "execution_count": null,
   "metadata": {},
   "outputs": [],
>>>>>>> 7126933d4e9879b6e5ffa8fcc35b393ade5c1507
   "source": [
    "y = list(range(2,101, 2))\n",
    "print(y)"
   ]
  },
  {
   "cell_type": "code",
<<<<<<< HEAD
   "execution_count": 26,
   "metadata": {},
   "outputs": [
    {
     "name": "stdout",
     "output_type": "stream",
     "text": [
      "[100, 98, 96, 94, 92, 90, 88, 86, 84, 82, 80, 78, 76, 74, 72, 70, 68, 66, 64, 62, 60, 58, 56, 54, 52, 50, 48, 46, 44, 42, 40, 38, 36, 34, 32, 30, 28, 26, 24, 22, 20, 18, 16, 14, 12, 10, 8, 6, 4, 2]\n"
     ]
    }
   ],
=======
   "execution_count": null,
   "metadata": {},
   "outputs": [],
>>>>>>> 7126933d4e9879b6e5ffa8fcc35b393ade5c1507
   "source": [
    "x.reverse()\n",
    "print(x)"
   ]
  },
  {
   "cell_type": "code",
<<<<<<< HEAD
   "execution_count": 27,
   "metadata": {},
   "outputs": [
    {
     "name": "stdout",
     "output_type": "stream",
     "text": [
      "[2, 4, 6, 8, 10, 12, 14, 16, 18, 20, 22, 24, 26, 28, 30, 32, 34, 36, 38, 40, 42, 44, 46, 48, 50, 52, 54, 56, 58, 60, 62, 64, 66, 68, 70, 72, 74, 76, 78, 80, 82, 84, 86, 88, 90, 92, 94, 96, 98, 100]\n"
     ]
    }
   ],
=======
   "execution_count": null,
   "metadata": {},
   "outputs": [],
>>>>>>> 7126933d4e9879b6e5ffa8fcc35b393ade5c1507
   "source": [
    "x.sort()\n",
    "print(x)"
   ]
  },
  {
   "cell_type": "code",
<<<<<<< HEAD
   "execution_count": 28,
   "metadata": {},
   "outputs": [
    {
     "name": "stdout",
     "output_type": "stream",
     "text": [
      "3\n",
      "0\n",
      "1\n"
     ]
    }
   ],
=======
   "execution_count": null,
   "metadata": {},
   "outputs": [],
>>>>>>> 7126933d4e9879b6e5ffa8fcc35b393ade5c1507
   "source": [
    "a = [12,56,34,56,12,56,76,56,12]\n",
    "print(a.count(12))\n",
    "print(a.count(32))\n",
    "print(a.count(34))"
   ]
  },
  {
<<<<<<< HEAD
   "cell_type": "code",
   "execution_count": 29,
   "metadata": {},
   "outputs": [
    {
     "name": "stdout",
     "output_type": "stream",
     "text": [
      "False\n",
      "True\n",
      "False\n",
      "0\n",
      "6\n"
=======
   "cell_type": "markdown",
   "metadata": {},
   "source": [
    "searching in list"
   ]
  },
  {
   "cell_type": "code",
   "execution_count": null,
   "metadata": {},
   "outputs": [
    {
     "ename": "",
     "evalue": "",
     "output_type": "error",
     "traceback": [
      "\u001b[1;31mThe Kernel crashed while executing code in the current cell or a previous cell. \n",
      "\u001b[1;31mPlease review the code in the cell(s) to identify a possible cause of the failure. \n",
      "\u001b[1;31mClick <a href='https://aka.ms/vscodeJupyterKernelCrash'>here</a> for more info. \n",
      "\u001b[1;31mView Jupyter <a href='command:jupyter.viewOutput'>log</a> for further details."
>>>>>>> 7126933d4e9879b6e5ffa8fcc35b393ade5c1507
     ]
    }
   ],
   "source": [
    "# just checking if a value exists in list\n",
    "print(53 in a) \n",
    "print(12 in a) \n",
    "print(32 in a) \n",
    "\n",
    "# finding the first occurance of a value in list\n",
    "print(a.index(12))\n",
    "print(a.index(76))"
   ]
  },
  {
   "cell_type": "code",
   "execution_count": null,
   "metadata": {},
   "outputs": [],
   "source": []
<<<<<<< HEAD
  },
  {
   "cell_type": "code",
   "execution_count": null,
   "metadata": {},
   "outputs": [],
   "source": []
  },
  {
   "cell_type": "code",
   "execution_count": null,
   "metadata": {},
   "outputs": [],
   "source": []
  },
  {
   "cell_type": "code",
   "execution_count": null,
   "metadata": {},
   "outputs": [],
   "source": []
=======
>>>>>>> 7126933d4e9879b6e5ffa8fcc35b393ade5c1507
  }
 ],
 "metadata": {
  "kernelspec": {
   "display_name": "base",
   "language": "python",
   "name": "python3"
  },
  "language_info": {
   "codemirror_mode": {
    "name": "ipython",
    "version": 3
   },
   "file_extension": ".py",
   "mimetype": "text/x-python",
   "name": "python",
   "nbconvert_exporter": "python",
   "pygments_lexer": "ipython3",
<<<<<<< HEAD
   "version": "3.11.5"
=======
   "version": "3.11.7"
>>>>>>> 7126933d4e9879b6e5ffa8fcc35b393ade5c1507
  }
 },
 "nbformat": 4,
 "nbformat_minor": 2
}
