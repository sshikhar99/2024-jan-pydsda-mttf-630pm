{
 "cells": [
  {
   "cell_type": "code",
<<<<<<< HEAD
   "execution_count": 4,
   "metadata": {},
   "outputs": [
    {
     "name": "stdout",
     "output_type": "stream",
     "text": [
      "['The Way of Kings', 2009, 'Brandon Sanderson', 1000, 'fantasy novel', 10.0, 23094]\n"
     ]
    }
   ],
=======
   "execution_count": null,
   "metadata": {},
   "outputs": [],
>>>>>>> 7126933d4e9879b6e5ffa8fcc35b393ade5c1507
   "source": [
    "data =['The Way of Kings', 2009,\n",
    "       'Brandon Sanderson', 1000, \n",
    "       'fantasy novel', 10.0, 23094]\n",
    "print(data)"
   ]
  },
  {
<<<<<<< HEAD
   "cell_type": "code",
   "execution_count": 5,
   "metadata": {},
   "outputs": [
    {
     "name": "stdout",
     "output_type": "stream",
     "text": [
      "{'title': 'The way of Kings', 'year': 2009, 'author': 'Brandon Sanderson', 'price': 1000, 'genre': 'fantasy novel', 'rating': 10.0, 'votes': 23094}\n"
     ]
    }
   ],
=======
   "cell_type": "markdown",
   "metadata": {},
   "source": [
    "dictionary\n",
    "- keys are always immutable and unique,\n",
    "- values are mutable and can be duplicated.\n",
    "- keys are case-sensitive.\n",
    "- dictionary is ordered"
   ]
  },
  {
   "cell_type": "code",
   "execution_count": null,
   "metadata": {},
   "outputs": [],
>>>>>>> 7126933d4e9879b6e5ffa8fcc35b393ade5c1507
   "source": [
    "data = {\n",
    "    'title': 'The way of Kings',\n",
    "    'year': 2009,\n",
    "    'author': 'Brandon Sanderson',\n",
    "    'price': 1000,\n",
    "    'genre': 'fantasy novel',\n",
    "    'rating': 10.0,\n",
    "    'votes': 23094\n",
    "}\n",
    "print(data)"
   ]
  },
  {
   "cell_type": "code",
<<<<<<< HEAD
   "execution_count": 6,
   "metadata": {},
   "outputs": [
    {
     "name": "stdout",
     "output_type": "stream",
     "text": [
      "The way of Kings\n",
      "Brandon Sanderson\n"
     ]
    }
   ],
   "source": [
    "print(data['title'])\n",
    "print(data['author'])\n"
=======
   "execution_count": null,
   "metadata": {},
   "outputs": [],
   "source": [
    "print(data['title'])\n",
    "print(data['author'])"
>>>>>>> 7126933d4e9879b6e5ffa8fcc35b393ade5c1507
   ]
  },
  {
   "cell_type": "code",
<<<<<<< HEAD
   "execution_count": 7,
   "metadata": {},
   "outputs": [
    {
     "name": "stdout",
     "output_type": "stream",
     "text": [
      "None\n",
      "1000\n"
     ]
    }
   ],
   "source": [
    "print(data.get('pages'))\n",
    "print(data.get('price'))\n"
=======
   "execution_count": null,
   "metadata": {},
   "outputs": [],
   "source": [
    "# print(data['pages']) # KeyError: 'pages'"
   ]
  },
  {
   "cell_type": "code",
   "execution_count": null,
   "metadata": {},
   "outputs": [],
   "source": [
    "# error free way\n",
    "print(data.get('pages'))\n",
    "print(data.get('price'))"
>>>>>>> 7126933d4e9879b6e5ffa8fcc35b393ade5c1507
   ]
  },
  {
   "cell_type": "code",
<<<<<<< HEAD
   "execution_count": 8,
   "metadata": {},
   "outputs": [
    {
     "data": {
      "text/plain": [
       "dict_keys(['title', 'year', 'author', 'price', 'genre', 'rating', 'votes'])"
      ]
     },
     "execution_count": 8,
     "metadata": {},
     "output_type": "execute_result"
    }
   ],
   "source": [
    "data.keys()\n"
=======
   "execution_count": null,
   "metadata": {},
   "outputs": [],
   "source": [
    "data.keys()"
>>>>>>> 7126933d4e9879b6e5ffa8fcc35b393ade5c1507
   ]
  },
  {
   "cell_type": "code",
<<<<<<< HEAD
   "execution_count": 9,
   "metadata": {},
   "outputs": [
    {
     "data": {
      "text/plain": [
       "dict_values(['The way of Kings', 2009, 'Brandon Sanderson', 1000, 'fantasy novel', 10.0, 23094])"
      ]
     },
     "execution_count": 9,
     "metadata": {},
     "output_type": "execute_result"
    }
   ],
=======
   "execution_count": null,
   "metadata": {},
   "outputs": [],
>>>>>>> 7126933d4e9879b6e5ffa8fcc35b393ade5c1507
   "source": [
    "data.values()"
   ]
  },
  {
   "cell_type": "code",
<<<<<<< HEAD
   "execution_count": 10,
   "metadata": {},
   "outputs": [
    {
     "data": {
      "text/plain": [
       "dict_items([('title', 'The way of Kings'), ('year', 2009), ('author', 'Brandon Sanderson'), ('price', 1000), ('genre', 'fantasy novel'), ('rating', 10.0), ('votes', 23094)])"
      ]
     },
     "execution_count": 10,
     "metadata": {},
     "output_type": "execute_result"
    }
   ],
=======
   "execution_count": null,
   "metadata": {},
   "outputs": [],
>>>>>>> 7126933d4e9879b6e5ffa8fcc35b393ade5c1507
   "source": [
    "data.items()"
   ]
  },
  {
   "cell_type": "code",
<<<<<<< HEAD
   "execution_count": 11,
=======
   "execution_count": 12,
>>>>>>> 7126933d4e9879b6e5ffa8fcc35b393ade5c1507
   "metadata": {},
   "outputs": [
    {
     "name": "stdout",
     "output_type": "stream",
     "text": [
<<<<<<< HEAD
      "{'5': '4', '6': '1', 'title': '2', 'title ': '', '': ''}\n"
=======
      "{'name': 'Top Gun', 'Actor': 'Tom Cruise', 'year': '2390', 'rating': '5', 'director': 'abcd'}\n"
>>>>>>> 7126933d4e9879b6e5ffa8fcc35b393ade5c1507
     ]
    }
   ],
   "source": [
<<<<<<< HEAD
    "movie = {}\n",
    "for i in range(5):\n",
    "    key = input('Enter the key')\n",
    "    value = input('Enter the value: ')\n",
    "    movie[key] = value \n",
=======
    "movie = {} # empty dictionary\n",
    "for i in range(5):\n",
    "    key = input('Enter the key: ')\n",
    "    value = input('Enter the value: ')\n",
    "    movie[key] = value # adding key-value pair to the dictionary\n",
>>>>>>> 7126933d4e9879b6e5ffa8fcc35b393ade5c1507
    "print(movie)"
   ]
  },
  {
<<<<<<< HEAD
   "cell_type": "markdown",
   "metadata": {},
   "source": [
    "{'name': 'Top Gun', 'Actor': 'Tom Cruise', 'year': '2390', 'rating': '5'} 'director': 'abcd'"
   ]
  },
  {
=======
>>>>>>> 7126933d4e9879b6e5ffa8fcc35b393ade5c1507
   "cell_type": "code",
   "execution_count": null,
   "metadata": {},
   "outputs": [],
   "source": []
  }
 ],
 "metadata": {
  "kernelspec": {
   "display_name": "base",
   "language": "python",
   "name": "python3"
  },
  "language_info": {
   "codemirror_mode": {
    "name": "ipython",
    "version": 3
   },
   "file_extension": ".py",
   "mimetype": "text/x-python",
   "name": "python",
   "nbconvert_exporter": "python",
   "pygments_lexer": "ipython3",
<<<<<<< HEAD
   "version": "3.11.5"
=======
   "version": "3.11.7"
>>>>>>> 7126933d4e9879b6e5ffa8fcc35b393ade5c1507
  }
 },
 "nbformat": 4,
 "nbformat_minor": 2
}
