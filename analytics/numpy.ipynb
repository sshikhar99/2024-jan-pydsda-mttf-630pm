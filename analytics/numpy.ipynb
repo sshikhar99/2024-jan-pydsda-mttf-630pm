{
 "cells": [
  {
   "cell_type": "code",
   "execution_count": 1,
   "metadata": {},
   "outputs": [],
   "source": [
    "import numpy as np"
   ]
  },
  {
   "cell_type": "code",
   "execution_count": 2,
   "metadata": {},
   "outputs": [
    {
     "name": "stdout",
     "output_type": "stream",
     "text": [
      "[1 2 3 4]\n",
      "(4,)\n",
      "1\n",
      "<class 'numpy.ndarray'>\n"
     ]
    }
   ],
   "source": [
    "x1 = np.array([1,2,3,4])\n",
    "print(x1)\n",
    "print(x1.shape)\n",
    "print(x1.ndim)\n",
    "print(type(x1))"
   ]
  },
  {
   "cell_type": "code",
   "execution_count": 3,
   "metadata": {},
   "outputs": [
    {
     "name": "stdout",
     "output_type": "stream",
     "text": [
      "[[1 2 3]\n",
      " [4 5 6]]\n",
      "(2, 3)\n",
      "2\n"
     ]
    }
   ],
   "source": [
    "x2 = np.array([\n",
    "    [1,2,3],\n",
    "    [4,5,6]\n",
    "])\n",
    "print(x2)\n",
    "print(x2.shape)\n",
    "print(x2.ndim)"
   ]
  },
  {
   "cell_type": "code",
   "execution_count": 4,
   "metadata": {},
   "outputs": [
    {
     "name": "stdout",
     "output_type": "stream",
     "text": [
      "[10.  10.5 11.  11.5 12.  12.5 13.  13.5 14.  14.5 15.  15.5 16.  16.5\n",
      " 17.  17.5 18.  18.5 19.  19.5 20.  20.5 21.  21.5 22.  22.5 23.  23.5\n",
      " 24.  24.5 25.  25.5 26.  26.5 27.  27.5 28.  28.5 29.  29.5 30.  30.5\n",
      " 31.  31.5 32.  32.5 33.  33.5 34.  34.5 35.  35.5 36.  36.5 37.  37.5\n",
      " 38.  38.5 39.  39.5 40.  40.5 41.  41.5 42.  42.5 43.  43.5 44.  44.5\n",
      " 45.  45.5 46.  46.5 47.  47.5 48.  48.5 49.  49.5 50.  50.5]\n"
     ]
    }
   ],
   "source": [
    "a = np.arange(10, 51, .5)\n",
    "print(a)"
   ]
  },
  {
   "cell_type": "code",
   "execution_count": 5,
   "metadata": {},
   "outputs": [
    {
     "name": "stdout",
     "output_type": "stream",
     "text": [
      "[10.         10.20833333 10.41666667 10.625      10.83333333 11.04166667\n",
      " 11.25       11.45833333 11.66666667 11.875      12.08333333 12.29166667\n",
      " 12.5        12.70833333 12.91666667 13.125      13.33333333 13.54166667\n",
      " 13.75       13.95833333 14.16666667 14.375      14.58333333 14.79166667\n",
      " 15.        ]\n"
     ]
    }
   ],
   "source": [
    "b = np.linspace(10,15, 25)\n",
    "print(b)"
   ]
  },
  {
   "cell_type": "code",
   "execution_count": 6,
   "metadata": {},
   "outputs": [
    {
     "name": "stdout",
     "output_type": "stream",
     "text": [
      "[[  4  -6   0  -2 -10]\n",
      " [  8  -4   2  -4  -1]\n",
      " [  7   9   8 -10  -4]\n",
      " [ -3   2   5   2   3]\n",
      " [  1   4   5   7  -9]]\n"
     ]
    }
   ],
   "source": [
    "c = np.random.randint(-10,10, (5,5))\n",
    "print(c)"
   ]
  },
  {
   "cell_type": "code",
   "execution_count": 7,
   "metadata": {},
   "outputs": [
    {
     "data": {
      "text/plain": [
       "array([[10, 10, 11, 12, 13, 14, 15, 16, 17, 18],\n",
       "       [18, 19, 20, 21, 22, 23, 24, 25, 26, 27],\n",
       "       [27, 28, 29, 30, 31, 32, 33, 34, 35, 36],\n",
       "       [36, 37, 38, 39, 40, 41, 42, 43, 44, 45],\n",
       "       [45, 46, 47, 48, 49, 50, 51, 52, 53, 54],\n",
       "       [54, 55, 56, 57, 58, 59, 60, 61, 62, 63],\n",
       "       [63, 64, 65, 66, 67, 68, 69, 70, 71, 72],\n",
       "       [72, 73, 74, 75, 76, 77, 78, 79, 80, 81],\n",
       "       [81, 82, 83, 84, 85, 86, 87, 88, 89, 90],\n",
       "       [90, 91, 92, 93, 94, 95, 96, 97, 98, 99]])"
      ]
     },
     "execution_count": 7,
     "metadata": {},
     "output_type": "execute_result"
    }
   ],
   "source": [
    "x = np.linspace(10,99, 100).reshape(10,10).astype(int)\n",
    "x"
   ]
  },
  {
   "cell_type": "code",
   "execution_count": 8,
   "metadata": {},
   "outputs": [
    {
     "name": "stdout",
     "output_type": "stream",
     "text": [
      "10\n",
      "99\n",
      "61\n",
      "[10 10 11 12 13 14 15 16 17 18]\n",
      "[90 91 92 93 94 95 96 97 98 99]\n"
     ]
    }
   ],
   "source": [
    "print(x[0, 0]) # first element\n",
    "print(x[-1, -1]) # last element\n",
    "print(x[5, 7]) # 5 row and 7 column index\n",
    "# row\n",
    "print(x[0]) # first row\n",
    "print(x[-1]) # last row"
   ]
  },
  {
   "cell_type": "code",
   "execution_count": 9,
   "metadata": {},
   "outputs": [
    {
     "name": "stdout",
     "output_type": "stream",
     "text": [
      "[10 18 27 36 45 54 63 72 81 90]\n",
      "[18 27 36 45 54 63 72 81 90 99]\n"
     ]
    }
   ],
   "source": [
    "print(x[:, 0]) # first column\n",
    "print(x[:, -1]) # last column"
   ]
  },
  {
   "cell_type": "code",
   "execution_count": 10,
   "metadata": {},
   "outputs": [
    {
     "name": "stdout",
     "output_type": "stream",
     "text": [
      "[[10 10 11]\n",
      " [18 19 20]\n",
      " [27 28 29]\n",
      " [36 37 38]\n",
      " [45 46 47]\n",
      " [54 55 56]\n",
      " [63 64 65]\n",
      " [72 73 74]\n",
      " [81 82 83]\n",
      " [90 91 92]]\n",
      "[[16 17 18]\n",
      " [25 26 27]\n",
      " [34 35 36]\n",
      " [43 44 45]\n",
      " [52 53 54]\n",
      " [61 62 63]\n",
      " [70 71 72]\n",
      " [79 80 81]\n",
      " [88 89 90]\n",
      " [97 98 99]]\n"
     ]
    }
   ],
   "source": [
    "print(x[:, :3]) # first 3 column\n",
    "print(x[:, -3:]) # last 3 column"
   ]
  },
  {
   "cell_type": "code",
   "execution_count": 11,
   "metadata": {},
   "outputs": [
    {
     "name": "stdout",
     "output_type": "stream",
     "text": [
      "[[10 10 11 12 13]\n",
      " [18 19 20 21 22]\n",
      " [27 28 29 30 31]]\n"
     ]
    }
   ],
   "source": [
    "print(x[:3, :5]) # first 3 row, and first 5 column"
   ]
  }
 ],
 "metadata": {
  "kernelspec": {
   "display_name": "base",
   "language": "python",
   "name": "python3"
  },
  "language_info": {
   "codemirror_mode": {
    "name": "ipython",
    "version": 3
   },
   "file_extension": ".py",
   "mimetype": "text/x-python",
   "name": "python",
   "nbconvert_exporter": "python",
   "pygments_lexer": "ipython3",
   "version": "3.11.5"
  }
 },
 "nbformat": 4,
 "nbformat_minor": 2
}
